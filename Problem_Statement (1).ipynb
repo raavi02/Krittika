{
 "cells": [
  {
   "cell_type": "markdown",
   "metadata": {},
   "source": [
    "# Krittika Convener Selection Assignments\n",
    "## Python Assignment"
   ]
  },
  {
   "cell_type": "markdown",
   "metadata": {},
   "source": [
    "1. You may find the **KSP tutorials** useful: https://github.com/krittikaiitb/tutorials - Tutorials 1,2,3, and 4 are particularly relevant. These cover basic `python`, `numpy`, functions in `python` and `matplotlib` respectively.\n",
    "\n",
    "2. A helpful reminder that executing a cell with `help` (for example: `help(np.loadtxt)` or `np.loadtxt?`) will show the documentation for that function.\n",
    "\n",
    "3. The use of internet is completely ALLOWED for solving this assignment.\n",
    "4. Feel free to use multiple cells for your solutions. But keep them separate for each question (don't use a cell to solve Q1 after Q2)"
   ]
  },
  {
   "cell_type": "markdown",
   "metadata": {},
   "source": [
    "### Q1: Parsing Form Responses (10 points)\n",
    "Suppose you have collected responses from various IITB students using a google form and the responses have been extracted as a csv file. You want to mail all the people who have filled the form now. The email client used by LDAP mail accepts a single string of comma separated email adresses (note that {rollnumber}@iitb.ac.in will redirect to respective student). \n",
    "\n",
    "Your task is to parse the CSV file and generate the comma separated string."
   ]
  },
  {
   "cell_type": "markdown",
   "metadata": {},
   "source": [
    "For example, if the csv file contains \n",
    "\n",
    "| Sr. No | Name | Roll Number |\n",
    "| -------- | -------- | -------- |\n",
    "| 1     | Newton     | 2000001    |\n",
    "| 2     | Galileo     | 2000005    |\n",
    "| 3     | Kepler     | 2000010    |\n",
    "\n",
    "\n",
    "Then your program should print the string `2000001@iitb.ac.in, 2000005@iitb.ac.in, 2000010@iitb.ac.in`"
   ]
  },
  {
   "cell_type": "code",
   "execution_count": 24,
   "metadata": {},
   "outputs": [],
   "source": [
    "file1 = \"Dataset_Q1.csv\""
   ]
  },
  {
   "cell_type": "markdown",
   "metadata": {},
   "source": [
    "You may find `numpy.loadtxt` or `numpy.genfromtxt` to be useful here. Feel free to use any method you wish to load the data from `file1`.\n",
    "\n",
    "Write your code as a function that takes in the data file as input and returns the relevant string."
   ]
  },
  {
   "cell_type": "code",
   "execution_count": 23,
   "metadata": {},
   "outputs": [],
   "source": [
    "# Solution Code\n",
    "import numpy as np\n",
    "def get_emails(file):\n",
    "    #load roll no. and convert into integer\n",
    "    data = np.loadtxt(file, delimiter=',',usecols =2).astype(int)\n",
    "    #create an array of length data filled with @iitb.ac.in\n",
    "    subs = np.full(len(data),'@iitb.ac.in')\n",
    "    #convert data into string to add them\n",
    "    data_2 = data.astype(str)\n",
    "    #return the result with bracket of list and '' of string removed\n",
    "    return str(list(np.char.add(data_2,subs))).replace(\"'\", \"\")[1:-1]\n",
    "\n",
    "\n",
    "\n",
    "    \n",
    "    "
   ]
  },
  {
   "cell_type": "code",
   "execution_count": 19,
   "metadata": {},
   "outputs": [
    {
     "name": "stdout",
     "output_type": "stream",
     "text": [
      "20000003@iitb.ac.in, 20000006@iitb.ac.in, 20010000@iitb.ac.in, 19020000@iitb.ac.in, 20000304@iitb.ac.in\n"
     ]
    }
   ],
   "source": [
    "print(get_emails(file1))"
   ]
  },
  {
   "cell_type": "markdown",
   "metadata": {},
   "source": [
    "### Q2: The moons of Endor (20 points)\n",
    "\n",
    "Endor is a fictional planet from the [Star Wars](https://starwars.fandom.com/wiki/Endor_(planet)) universe which has 9 major moons. The masses, semimajor axes and time periods of each of these moons is given in `Dataset_Q2.csv`. The masses (*m*) are given as a fraction of the mass of Endor itself, the semimajor axis (*a*) as a fraction of the radius of Endor and time period (*T*) in Endor days.\n",
    "\n",
    "<b style='color:red;'>Note for Star Wars fans</b>: First, are you ok? Second, the values are fabricated, don't go looking for reasons why the data can't hold up to random in-universe information."
   ]
  },
  {
   "cell_type": "code",
   "execution_count": 4,
   "metadata": {},
   "outputs": [],
   "source": [
    "file2 = 'Dataset_Q2.csv'"
   ]
  },
  {
   "cell_type": "markdown",
   "metadata": {},
   "source": [
    "Recall the usual Kepler's third law which can be written as \n",
    "$$\\frac{a^{3/2}}{T} = \\sqrt{\\frac{G(M_{planet}+m_{moon})}{4\\pi^2}}$$\n",
    "where $a$ is the semimajor axis, $T$ is the time period, $M_{planet}$ is the mass of the planet, $m_{moon}$ is the mass of the moon, and $G$ is the universal gravitational constant.\n",
    "\n",
    "\n",
    "We plan to fit the data we have to the power law relation \n",
    "$$\\frac{a^{x}}{T} = \\sqrt{\\frac{G(M_{planet}+m_{moon})}{4\\pi^2}}$$\n",
    "\n",
    "Your task is to determine the constant $x$ by fitting the given 'experimental' data and decide whether Kepler's law (with $x$ = 1.5) holds, in the galaxy far far away (where star wars happens). Also find the value of $G$ in the given unit system.\n",
    "\n",
    "\n",
    "Hint: `numpy.polyfit` or `scipy.optimize.curve_fit` (and maybe `numpy.log`) might be useful for solving this question."
   ]
  },
  {
   "cell_type": "code",
   "execution_count": 11,
   "metadata": {},
   "outputs": [
    {
     "name": "stdout",
     "output_type": "stream",
     "text": [
      "G =11126.982610660601\n"
     ]
    }
   ],
   "source": [
    "# Code here\n",
    "#...\n",
    "import numpy as np\n",
    "from scipy.optimize import curve_fit\n",
    "#load the data\n",
    "mass = np.loadtxt(file2, delimiter=',',usecols = 0)\n",
    "time = np.loadtxt(file2, delimiter=',',usecols = 1)\n",
    "sm_axis = np.loadtxt(file2, delimiter=',',usecols = 2)\n",
    "#decide x and y values from the power eqn by taking log on both sides\n",
    "y_values = np.log(time) + np.log(1+mass)/2 \n",
    "x_values = np.log(sm_axis) \n",
    "#form a linear equation\n",
    "def objective(x,m,c):\n",
    "    return m*x - c\n",
    "popt,_ = curve_fit(objective, x_values, y_values)\n",
    "x = popt[0]\n",
    "#mass of endor:1.76 x 10²³ kilogram\n",
    "#radius of endor:4900km\n",
    "#time period:402 Standard days\n",
    "#orbital period:18hrs\n",
    "#source:https://starwars.fandom.com/wiki/Endor\n",
    "M = 1.76*10**23\n",
    "R = 4900*10**3\n",
    "G = 2*np.exp(popt[1]-np.log(M)/2 + np.log(2*np.pi) + x*np.log(R)-np.log(18*60*60))\n",
    "print('G ={}'.format(G))#sounds unrealistic just like the planet\n",
    "\n"
   ]
  },
  {
   "cell_type": "code",
   "execution_count": 6,
   "metadata": {},
   "outputs": [
    {
     "name": "stdout",
     "output_type": "stream",
     "text": [
      "x=2.459830979098901\n"
     ]
    }
   ],
   "source": [
    "print('x={}'.format(x))\n"
   ]
  },
  {
   "cell_type": "markdown",
   "metadata": {},
   "source": [
    "## Q2 Bonus (10 points): \n",
    "Make a plot of the power law curve you have found, and the scatter plot the data points on top of this curve, to establish that your fit is good."
   ]
  },
  {
   "cell_type": "code",
   "execution_count": 14,
   "metadata": {},
   "outputs": [
    {
     "data": {
      "image/png": "[encoded data removed]",
      "text/plain": [
       "<Figure size 432x288 with 1 Axes>"
      ]
     },
     "metadata": {
      "needs_background": "light"
     },
     "output_type": "display_data"
    }
   ],
   "source": [
    "# Code here\n",
    "from numpy import arange\n",
    "from matplotlib import pyplot\n",
    "#scatter values\n",
    "pyplot.scatter(x_values, y_values)\n",
    "#decide the range for x\n",
    "x_line = arange(min(x_values), max(x_values),0.01)\n",
    "# calculate the output for the range\n",
    "y_line = objective(x_line, popt[0], popt[1])\n",
    "# create a line plot for the mapping function\n",
    "pyplot.plot(x_line, y_line, '--', color='red')\n",
    "pyplot.xlabel('Log of ratio of semimajor axis of moon and radius of planet')\n",
    "pyplot.ylabel('Log of time period +Log of (1+mass_ratio)/2')\n",
    "pyplot.show()\n"
   ]
  },
  {
   "cell_type": "code",
   "execution_count": null,
   "metadata": {},
   "outputs": [],
   "source": []
  }
 ],
 "metadata": {
  "kernelspec": {
   "display_name": "Python 3",
   "language": "python",
   "name": "python3"
  },
  "language_info": {
   "codemirror_mode": {
    "name": "ipython",
    "version": 3
   },
   "file_extension": ".py",
   "mimetype": "text/x-python",
   "name": "python",
   "nbconvert_exporter": "python",
   "pygments_lexer": "ipython3",
   "version": "3.8.5"
  }
 },
 "nbformat": 4,
 "nbformat_minor": 5
}
